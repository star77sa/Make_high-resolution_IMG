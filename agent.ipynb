{
 "cells": [
  {
   "cell_type": "code",
   "execution_count": 1,
   "metadata": {},
   "outputs": [
    {
     "data": {
      "text/plain": [
       "0"
      ]
     },
     "execution_count": 1,
     "metadata": {},
     "output_type": "execute_result"
    }
   ],
   "source": [
    "from PyQt5.QtWidgets import *\n",
    "import sys\n",
    "import cv2 as cv\n",
    "\n",
    "class Resolution(QMainWindow):\n",
    "    def __init__(self):\n",
    "        super().__init__()\n",
    "        \n",
    "        self.setWindowTitle(\"Make High-Resolution IMG\")\n",
    "        self.setGeometry(200,200,500,200) # 화면에 나타날 윈도우의 위치와 크기를 지정\n",
    "        \n",
    "        self.inittext = QLabel(\"저해상도 이미지를 고해상도로 바꾸어 주는 프로그램\", self)\n",
    "        self.inittext.move(10, 10)\n",
    "        self.inittext.resize(500, 20)\n",
    "        \n",
    "        imgopenButton = QPushButton('이미지 열기', self) # 버튼 생성\n",
    "        videoopenButton = QPushButton('비디오 열기', self)\n",
    "        convertButton = QPushButton('영상 변환', self)\n",
    "        exportButton = QPushButton('내보내기', self)\n",
    "        quitButton = QPushButton('나가기', self)\n",
    "        \n",
    "        self.scaletext = QLabel(\"Scale (2,4,8 만 가능) : \", self)\n",
    "        self.scaletext.move(10, 90)\n",
    "        self.scaletext.resize(300, 20)\n",
    "        \n",
    "        self.scale = QLineEdit(\"\", self)\n",
    "        self.scale.move(165, 90)\n",
    "        self.scale.resize(30,20)\n",
    " \n",
    "        self.radio1 = QRadioButton(\"Bicubic(고전방법)\", self)\n",
    "        self.radio1.move(10, 110)\n",
    "        self.radio1.resize(500,20)\n",
    "        self.radio1.setChecked(True)\n",
    "        self.radio1.clicked.connect(self.radioButton_clicked)\n",
    "        \n",
    "        self.radio2 = QRadioButton(\"Super-Resolution(딥러닝)\", self)\n",
    "        self.radio2.move(10, 130)\n",
    "        self.radio2.resize(500,20)\n",
    "        self.radio2.clicked.connect(self.radioButton_clicked)\n",
    "        \n",
    "        \n",
    " \n",
    "        \n",
    "        \n",
    "        \n",
    "        \n",
    "        imgopenButton.setGeometry(10, 30, 100, 30)\n",
    "        videoopenButton.setGeometry(10, 60, 100, 30)\n",
    "        convertButton.setGeometry(110, 30, 100, 30)\n",
    "        exportButton.setGeometry(210, 30, 100, 30)\n",
    "        quitButton.setGeometry(310, 30, 100, 30)\n",
    "        \n",
    "        \n",
    "        quitButton.clicked.connect(self.quitFunction)\n",
    "    \n",
    "    def radioButton_clicked(self):\n",
    "        method = \"\"\n",
    "        if self.radio1.isChecked():\n",
    "            method = \"bicubic\" # 지역변수임. 글로벌 변수 고려할 것\n",
    "        else:\n",
    "            method = \"super\"\n",
    "            \n",
    "    def quitFunction(self):\n",
    "        cv.destroyAllWindows()\n",
    "        self.close()\n",
    "        \n",
    "app = QApplication(sys.argv)\n",
    "win = Resolution()\n",
    "win.show()\n",
    "app.exec_()\n",
    "        "
   ]
  },
  {
   "cell_type": "code",
   "execution_count": null,
   "metadata": {},
   "outputs": [],
   "source": []
  }
 ],
 "metadata": {
  "kernelspec": {
   "display_name": "cv",
   "language": "python",
   "name": "python3"
  },
  "language_info": {
   "codemirror_mode": {
    "name": "ipython",
    "version": 3
   },
   "file_extension": ".py",
   "mimetype": "text/x-python",
   "name": "python",
   "nbconvert_exporter": "python",
   "pygments_lexer": "ipython3",
   "version": "3.8.13"
  },
  "orig_nbformat": 4
 },
 "nbformat": 4,
 "nbformat_minor": 2
}
