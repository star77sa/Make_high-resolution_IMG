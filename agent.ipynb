{
 "cells": [
  {
   "cell_type": "code",
   "execution_count": 1,
   "metadata": {},
   "outputs": [
    {
     "name": "stdout",
     "output_type": "stream",
     "text": [
      "./examples/zebra.png\n",
      "./examples/zebra.png\n"
     ]
    },
    {
     "data": {
      "text/plain": [
       "0"
      ]
     },
     "execution_count": 1,
     "metadata": {},
     "output_type": "execute_result"
    }
   ],
   "source": [
    "from PyQt5.QtWidgets import *\n",
    "import sys\n",
    "import cv2 as cv\n",
    "import numpy as np\n",
    "import time\n",
    "import os\n",
    "\n",
    "class Resolution(QMainWindow):\n",
    "    def __init__(self):\n",
    "        super().__init__()\n",
    "        \n",
    "        self.setWindowTitle(\"Make High-Resolution IMG\")\n",
    "        self.setGeometry(200,200,420,200) # 화면에 나타날 윈도우의 위치와 크기를 지정\n",
    "        \n",
    "        self.inittext = QLabel(\"저해상도 이미지를 고해상도로 바꾸어 주는 프로그램\", self)\n",
    "        self.inittext.move(10, 10)\n",
    "        self.inittext.resize(500, 20)\n",
    "        \n",
    "        imgopenButton = QPushButton('이미지 열기', self) # 버튼 생성\n",
    "        videoopenButton = QPushButton('비디오 열기', self)\n",
    "        convertButton = QPushButton('영상 변환', self)\n",
    "        exportButton = QPushButton('내보내기', self)\n",
    "        quitButton = QPushButton('나가기', self)\n",
    "        \n",
    "        self.scaletext = QLabel(\"Scale (2,4,8 만 가능) : \", self)\n",
    "        self.scaletext.move(10, 90)\n",
    "        self.scaletext.resize(300, 20)\n",
    "        \n",
    "        self.scale = QLineEdit(\"\", self)\n",
    "        self.scale.move(165, 90)\n",
    "        self.scale.resize(30,20)\n",
    "        self.scale.textChanged.connect(self.lineEdit_textChanged) # self.scale.text()\n",
    " \n",
    "        self.radio1 = QRadioButton(\"Bicubic(고전방법)\", self)\n",
    "        self.radio1.move(10, 110)\n",
    "        self.radio1.resize(500,20)\n",
    "        self.radio1.setChecked(True)\n",
    "        self.radio1.clicked.connect(self.radioButton_clicked) \n",
    "        \n",
    "        self.radio2 = QRadioButton(\"Super-Resolution(딥러닝)\", self)\n",
    "        self.radio2.move(10, 130)\n",
    "        self.radio2.resize(500,20)\n",
    "        self.radio2.clicked.connect(self.radioButton_clicked)\n",
    "        \n",
    "        \n",
    " \n",
    "        imgopenButton.setGeometry(10, 30, 100, 30)\n",
    "        videoopenButton.setGeometry(10, 60, 100, 30)\n",
    "        convertButton.setGeometry(110, 30, 100, 30)\n",
    "        exportButton.setGeometry(210, 30, 100, 30)\n",
    "        quitButton.setGeometry(310, 30, 100, 30)\n",
    "        \n",
    "        imgopenButton.clicked.connect(self.IMGOpenFunction)\n",
    "        \n",
    "        convertButton.clicked.connect(self.convertFunction)\n",
    "        \n",
    "        quitButton.clicked.connect(self.quitFunction)\n",
    "    \n",
    "    def IMGOpenFunction(self):\n",
    "        fname = QFileDialog.getOpenFileName(self, 'Open file', './examples') \n",
    "        fname = './examples/' + fname[0].split('/')[-1] # 한글 경로 오류로 수동 지정\n",
    "        print(fname)\n",
    "        self.img = cv.imread(fname)\n",
    "        if self.img is None : sys.exit('파일을 찾을 수 없습니다.')\n",
    "        \n",
    "        # self.img_show = np.copy(self.img)\n",
    "        cv.imshow('Original', self.img)\n",
    "       \n",
    "    def convertFucntion(self):\n",
    "        if self.scale.text() == '2':\n",
    "            model = \"models/LapSRN_x2.pb\"\n",
    "        elif self.scale.text() == '4':\n",
    "            model = \"models/LapSRN_x4.pb\"\n",
    "        elif self.model.text() == '8':\n",
    "            model = \"models/LapSRN_x8.pb\"\n",
    "        \n",
    "        modelName = model.split(os.path.sep)[-1].split(\"_\")[0].lower()\n",
    "        modelScale = int(self.scale.text())\n",
    "         \n",
    "        sr = cv.dnn_superres.DnnSuperResImpl_create()\n",
    "        sr.    \n",
    "        \n",
    "            \n",
    "        if self.method == \"bicubic\":\n",
    "            print(\"bicubic\")\n",
    "            start = time.time()\n",
    "            self.bicubic = cv.resize(self.img, self.img.shape[0]*)\n",
    "       \n",
    "    def scale_set(self):\n",
    "        self.scale\n",
    "       \n",
    "    def radioButton_clicked(self):\n",
    "        self.method = \"\"\n",
    "        if self.radio1.isChecked():\n",
    "            self.method = \"bicubic\"\n",
    "        else:\n",
    "            self.method = \"super\"\n",
    "            \n",
    "    def quitFunction(self):\n",
    "        cv.destroyAllWindows()\n",
    "        self.close()\n",
    "        \n",
    "app = QApplication(sys.argv)\n",
    "win = Resolution()\n",
    "win.show()\n",
    "app.exec_()\n",
    "        "
   ]
  },
  {
   "cell_type": "code",
   "execution_count": 2,
   "metadata": {},
   "outputs": [
    {
     "data": {
      "text/plain": [
       "'g:\\\\내 드라이브\\\\Github\\\\Make_high-resolution_IMG'"
      ]
     },
     "execution_count": 2,
     "metadata": {},
     "output_type": "execute_result"
    }
   ],
   "source": [
    "pwd"
   ]
  },
  {
   "cell_type": "code",
   "execution_count": null,
   "metadata": {},
   "outputs": [],
   "source": []
  }
 ],
 "metadata": {
  "kernelspec": {
   "display_name": "cv",
   "language": "python",
   "name": "python3"
  },
  "language_info": {
   "codemirror_mode": {
    "name": "ipython",
    "version": 3
   },
   "file_extension": ".py",
   "mimetype": "text/x-python",
   "name": "python",
   "nbconvert_exporter": "python",
   "pygments_lexer": "ipython3",
   "version": "3.8.13"
  },
  "orig_nbformat": 4
 },
 "nbformat": 4,
 "nbformat_minor": 2
}
