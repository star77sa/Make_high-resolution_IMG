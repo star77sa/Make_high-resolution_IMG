{
 "cells": [
  {
   "cell_type": "code",
   "execution_count": 1,
   "metadata": {},
   "outputs": [
    {
     "name": "stdout",
     "output_type": "stream",
     "text": [
      "./examples/zebra.png\n"
     ]
    },
    {
     "ename": "AttributeError",
     "evalue": "'Resolution' object has no attribute 'method'",
     "output_type": "error",
     "traceback": [
      "\u001b[1;31m---------------------------------------------------------------------------\u001b[0m",
      "\u001b[1;31mAttributeError\u001b[0m                            Traceback (most recent call last)",
      "\u001b[1;32mg:\\내 드라이브\\Github\\Make_high-resolution_IMG\\agent.ipynb Cell 1\u001b[0m in \u001b[0;36mResolution.convertFucntion\u001b[1;34m(self)\u001b[0m\n\u001b[0;32m     <a href='vscode-notebook-cell:/g%3A/%EB%82%B4%20%EB%93%9C%EB%9D%BC%EC%9D%B4%EB%B8%8C/Github/Make_high-resolution_IMG/agent.ipynb#W0sZmlsZQ%3D%3D?line=85'>86</a>\u001b[0m sr\u001b[39m.\u001b[39mreadModel(model)\n\u001b[0;32m     <a href='vscode-notebook-cell:/g%3A/%EB%82%B4%20%EB%93%9C%EB%9D%BC%EC%9D%B4%EB%B8%8C/Github/Make_high-resolution_IMG/agent.ipynb#W0sZmlsZQ%3D%3D?line=86'>87</a>\u001b[0m sr\u001b[39m.\u001b[39msetModel(modelName, modelScale)\n\u001b[1;32m---> <a href='vscode-notebook-cell:/g%3A/%EB%82%B4%20%EB%93%9C%EB%9D%BC%EC%9D%B4%EB%B8%8C/Github/Make_high-resolution_IMG/agent.ipynb#W0sZmlsZQ%3D%3D?line=89'>90</a>\u001b[0m \u001b[39mif\u001b[39;00m \u001b[39mself\u001b[39;49m\u001b[39m.\u001b[39;49mmethod \u001b[39m==\u001b[39m \u001b[39m\"\u001b[39m\u001b[39mbicubic\u001b[39m\u001b[39m\"\u001b[39m:\n\u001b[0;32m     <a href='vscode-notebook-cell:/g%3A/%EB%82%B4%20%EB%93%9C%EB%9D%BC%EC%9D%B4%EB%B8%8C/Github/Make_high-resolution_IMG/agent.ipynb#W0sZmlsZQ%3D%3D?line=90'>91</a>\u001b[0m     \u001b[39mprint\u001b[39m(\u001b[39m\"\u001b[39m\u001b[39mbicubic\u001b[39m\u001b[39m\"\u001b[39m)\n\u001b[0;32m     <a href='vscode-notebook-cell:/g%3A/%EB%82%B4%20%EB%93%9C%EB%9D%BC%EC%9D%B4%EB%B8%8C/Github/Make_high-resolution_IMG/agent.ipynb#W0sZmlsZQ%3D%3D?line=91'>92</a>\u001b[0m     start \u001b[39m=\u001b[39m time\u001b[39m.\u001b[39mtime()\n",
      "\u001b[1;31mAttributeError\u001b[0m: 'Resolution' object has no attribute 'method'"
     ]
    },
    {
     "name": "stdout",
     "output_type": "stream",
     "text": [
      "bicubic\n"
     ]
    },
    {
     "ename": "error",
     "evalue": "OpenCV(4.7.0) :-1: error: (-5:Bad argument) in function 'resize'\n> Overload resolution failed:\n>  - Can't parse 'dsize'. Input argument doesn't provide sequence protocol\n>  - Can't parse 'dsize'. Input argument doesn't provide sequence protocol\n",
     "output_type": "error",
     "traceback": [
      "\u001b[1;31m---------------------------------------------------------------------------\u001b[0m",
      "\u001b[1;31merror\u001b[0m                                     Traceback (most recent call last)",
      "\u001b[1;32mg:\\내 드라이브\\Github\\Make_high-resolution_IMG\\agent.ipynb Cell 1\u001b[0m in \u001b[0;36mResolution.convertFucntion\u001b[1;34m(self)\u001b[0m\n\u001b[0;32m     <a href='vscode-notebook-cell:/g%3A/%EB%82%B4%20%EB%93%9C%EB%9D%BC%EC%9D%B4%EB%B8%8C/Github/Make_high-resolution_IMG/agent.ipynb#W0sZmlsZQ%3D%3D?line=90'>91</a>\u001b[0m \u001b[39mprint\u001b[39m(\u001b[39m\"\u001b[39m\u001b[39mbicubic\u001b[39m\u001b[39m\"\u001b[39m)\n\u001b[0;32m     <a href='vscode-notebook-cell:/g%3A/%EB%82%B4%20%EB%93%9C%EB%9D%BC%EC%9D%B4%EB%B8%8C/Github/Make_high-resolution_IMG/agent.ipynb#W0sZmlsZQ%3D%3D?line=91'>92</a>\u001b[0m start \u001b[39m=\u001b[39m time\u001b[39m.\u001b[39mtime()\n\u001b[1;32m---> <a href='vscode-notebook-cell:/g%3A/%EB%82%B4%20%EB%93%9C%EB%9D%BC%EC%9D%B4%EB%B8%8C/Github/Make_high-resolution_IMG/agent.ipynb#W0sZmlsZQ%3D%3D?line=92'>93</a>\u001b[0m \u001b[39mself\u001b[39m\u001b[39m.\u001b[39mbicubic \u001b[39m=\u001b[39m cv\u001b[39m.\u001b[39;49mresize(\u001b[39mself\u001b[39;49m\u001b[39m.\u001b[39;49mimg, \u001b[39mint\u001b[39;49m(\u001b[39mself\u001b[39;49m\u001b[39m.\u001b[39;49mimg\u001b[39m.\u001b[39;49mshape[\u001b[39m1\u001b[39;49m])\u001b[39m*\u001b[39;49mmodelScale, \u001b[39mint\u001b[39;49m(\u001b[39mself\u001b[39;49m\u001b[39m.\u001b[39;49mimg\u001b[39m.\u001b[39;49mshape[\u001b[39m0\u001b[39;49m])\u001b[39m*\u001b[39;49mmodelScale)\n\u001b[0;32m     <a href='vscode-notebook-cell:/g%3A/%EB%82%B4%20%EB%93%9C%EB%9D%BC%EC%9D%B4%EB%B8%8C/Github/Make_high-resolution_IMG/agent.ipynb#W0sZmlsZQ%3D%3D?line=93'>94</a>\u001b[0m end \u001b[39m=\u001b[39m time\u001b[39m.\u001b[39mtime()\n\u001b[0;32m     <a href='vscode-notebook-cell:/g%3A/%EB%82%B4%20%EB%93%9C%EB%9D%BC%EC%9D%B4%EB%B8%8C/Github/Make_high-resolution_IMG/agent.ipynb#W0sZmlsZQ%3D%3D?line=94'>95</a>\u001b[0m cv\u001b[39m.\u001b[39mimshow(\u001b[39m\"\u001b[39m\u001b[39mBicubic\u001b[39m\u001b[39m\"\u001b[39m, \u001b[39mself\u001b[39m\u001b[39m.\u001b[39mbicubic)\n",
      "\u001b[1;31merror\u001b[0m: OpenCV(4.7.0) :-1: error: (-5:Bad argument) in function 'resize'\n> Overload resolution failed:\n>  - Can't parse 'dsize'. Input argument doesn't provide sequence protocol\n>  - Can't parse 'dsize'. Input argument doesn't provide sequence protocol\n"
     ]
    },
    {
     "name": "stdout",
     "output_type": "stream",
     "text": [
      "super-resolution\n",
      "super-resolution\n"
     ]
    },
    {
     "ename": "AttributeError",
     "evalue": "'Resolution' object has no attribute 'model'",
     "output_type": "error",
     "traceback": [
      "\u001b[1;31m---------------------------------------------------------------------------\u001b[0m",
      "\u001b[1;31mAttributeError\u001b[0m                            Traceback (most recent call last)",
      "\u001b[1;32mg:\\내 드라이브\\Github\\Make_high-resolution_IMG\\agent.ipynb Cell 1\u001b[0m in \u001b[0;36mResolution.convertFucntion\u001b[1;34m(self)\u001b[0m\n\u001b[0;32m     <a href='vscode-notebook-cell:/g%3A/%EB%82%B4%20%EB%93%9C%EB%9D%BC%EC%9D%B4%EB%B8%8C/Github/Make_high-resolution_IMG/agent.ipynb#W0sZmlsZQ%3D%3D?line=76'>77</a>\u001b[0m \u001b[39melif\u001b[39;00m \u001b[39mself\u001b[39m\u001b[39m.\u001b[39mscale\u001b[39m.\u001b[39mtext() \u001b[39m==\u001b[39m \u001b[39m'\u001b[39m\u001b[39m4\u001b[39m\u001b[39m'\u001b[39m:\n\u001b[0;32m     <a href='vscode-notebook-cell:/g%3A/%EB%82%B4%20%EB%93%9C%EB%9D%BC%EC%9D%B4%EB%B8%8C/Github/Make_high-resolution_IMG/agent.ipynb#W0sZmlsZQ%3D%3D?line=77'>78</a>\u001b[0m     model \u001b[39m=\u001b[39m \u001b[39m\"\u001b[39m\u001b[39mmodels/LapSRN_x4.pb\u001b[39m\u001b[39m\"\u001b[39m\n\u001b[1;32m---> <a href='vscode-notebook-cell:/g%3A/%EB%82%B4%20%EB%93%9C%EB%9D%BC%EC%9D%B4%EB%B8%8C/Github/Make_high-resolution_IMG/agent.ipynb#W0sZmlsZQ%3D%3D?line=78'>79</a>\u001b[0m \u001b[39melif\u001b[39;00m \u001b[39mself\u001b[39;49m\u001b[39m.\u001b[39;49mmodel\u001b[39m.\u001b[39mtext() \u001b[39m==\u001b[39m \u001b[39m'\u001b[39m\u001b[39m8\u001b[39m\u001b[39m'\u001b[39m:\n\u001b[0;32m     <a href='vscode-notebook-cell:/g%3A/%EB%82%B4%20%EB%93%9C%EB%9D%BC%EC%9D%B4%EB%B8%8C/Github/Make_high-resolution_IMG/agent.ipynb#W0sZmlsZQ%3D%3D?line=79'>80</a>\u001b[0m     model \u001b[39m=\u001b[39m \u001b[39m\"\u001b[39m\u001b[39mmodels/LapSRN_x8.pb\u001b[39m\u001b[39m\"\u001b[39m\n\u001b[0;32m     <a href='vscode-notebook-cell:/g%3A/%EB%82%B4%20%EB%93%9C%EB%9D%BC%EC%9D%B4%EB%B8%8C/Github/Make_high-resolution_IMG/agent.ipynb#W0sZmlsZQ%3D%3D?line=81'>82</a>\u001b[0m modelName \u001b[39m=\u001b[39m \u001b[39m\"\u001b[39m\u001b[39mlapsrn\u001b[39m\u001b[39m\"\u001b[39m \u001b[39m# model.split(os.path.sep)[-1].split(\"_\")[0].lower()\u001b[39;00m\n",
      "\u001b[1;31mAttributeError\u001b[0m: 'Resolution' object has no attribute 'model'"
     ]
    },
    {
     "ename": "AttributeError",
     "evalue": "'Resolution' object has no attribute 'model'",
     "output_type": "error",
     "traceback": [
      "\u001b[1;31m---------------------------------------------------------------------------\u001b[0m",
      "\u001b[1;31mAttributeError\u001b[0m                            Traceback (most recent call last)",
      "\u001b[1;32mg:\\내 드라이브\\Github\\Make_high-resolution_IMG\\agent.ipynb Cell 1\u001b[0m in \u001b[0;36mResolution.convertFucntion\u001b[1;34m(self)\u001b[0m\n\u001b[0;32m     <a href='vscode-notebook-cell:/g%3A/%EB%82%B4%20%EB%93%9C%EB%9D%BC%EC%9D%B4%EB%B8%8C/Github/Make_high-resolution_IMG/agent.ipynb#W0sZmlsZQ%3D%3D?line=76'>77</a>\u001b[0m \u001b[39melif\u001b[39;00m \u001b[39mself\u001b[39m\u001b[39m.\u001b[39mscale\u001b[39m.\u001b[39mtext() \u001b[39m==\u001b[39m \u001b[39m'\u001b[39m\u001b[39m4\u001b[39m\u001b[39m'\u001b[39m:\n\u001b[0;32m     <a href='vscode-notebook-cell:/g%3A/%EB%82%B4%20%EB%93%9C%EB%9D%BC%EC%9D%B4%EB%B8%8C/Github/Make_high-resolution_IMG/agent.ipynb#W0sZmlsZQ%3D%3D?line=77'>78</a>\u001b[0m     model \u001b[39m=\u001b[39m \u001b[39m\"\u001b[39m\u001b[39mmodels/LapSRN_x4.pb\u001b[39m\u001b[39m\"\u001b[39m\n\u001b[1;32m---> <a href='vscode-notebook-cell:/g%3A/%EB%82%B4%20%EB%93%9C%EB%9D%BC%EC%9D%B4%EB%B8%8C/Github/Make_high-resolution_IMG/agent.ipynb#W0sZmlsZQ%3D%3D?line=78'>79</a>\u001b[0m \u001b[39melif\u001b[39;00m \u001b[39mself\u001b[39;49m\u001b[39m.\u001b[39;49mmodel\u001b[39m.\u001b[39mtext() \u001b[39m==\u001b[39m \u001b[39m'\u001b[39m\u001b[39m8\u001b[39m\u001b[39m'\u001b[39m:\n\u001b[0;32m     <a href='vscode-notebook-cell:/g%3A/%EB%82%B4%20%EB%93%9C%EB%9D%BC%EC%9D%B4%EB%B8%8C/Github/Make_high-resolution_IMG/agent.ipynb#W0sZmlsZQ%3D%3D?line=79'>80</a>\u001b[0m     model \u001b[39m=\u001b[39m \u001b[39m\"\u001b[39m\u001b[39mmodels/LapSRN_x8.pb\u001b[39m\u001b[39m\"\u001b[39m\n\u001b[0;32m     <a href='vscode-notebook-cell:/g%3A/%EB%82%B4%20%EB%93%9C%EB%9D%BC%EC%9D%B4%EB%B8%8C/Github/Make_high-resolution_IMG/agent.ipynb#W0sZmlsZQ%3D%3D?line=81'>82</a>\u001b[0m modelName \u001b[39m=\u001b[39m \u001b[39m\"\u001b[39m\u001b[39mlapsrn\u001b[39m\u001b[39m\"\u001b[39m \u001b[39m# model.split(os.path.sep)[-1].split(\"_\")[0].lower()\u001b[39;00m\n",
      "\u001b[1;31mAttributeError\u001b[0m: 'Resolution' object has no attribute 'model'"
     ]
    },
    {
     "ename": "AttributeError",
     "evalue": "'Resolution' object has no attribute 'model'",
     "output_type": "error",
     "traceback": [
      "\u001b[1;31m---------------------------------------------------------------------------\u001b[0m",
      "\u001b[1;31mAttributeError\u001b[0m                            Traceback (most recent call last)",
      "\u001b[1;32mg:\\내 드라이브\\Github\\Make_high-resolution_IMG\\agent.ipynb Cell 1\u001b[0m in \u001b[0;36mResolution.convertFucntion\u001b[1;34m(self)\u001b[0m\n\u001b[0;32m     <a href='vscode-notebook-cell:/g%3A/%EB%82%B4%20%EB%93%9C%EB%9D%BC%EC%9D%B4%EB%B8%8C/Github/Make_high-resolution_IMG/agent.ipynb#W0sZmlsZQ%3D%3D?line=76'>77</a>\u001b[0m \u001b[39melif\u001b[39;00m \u001b[39mself\u001b[39m\u001b[39m.\u001b[39mscale\u001b[39m.\u001b[39mtext() \u001b[39m==\u001b[39m \u001b[39m'\u001b[39m\u001b[39m4\u001b[39m\u001b[39m'\u001b[39m:\n\u001b[0;32m     <a href='vscode-notebook-cell:/g%3A/%EB%82%B4%20%EB%93%9C%EB%9D%BC%EC%9D%B4%EB%B8%8C/Github/Make_high-resolution_IMG/agent.ipynb#W0sZmlsZQ%3D%3D?line=77'>78</a>\u001b[0m     model \u001b[39m=\u001b[39m \u001b[39m\"\u001b[39m\u001b[39mmodels/LapSRN_x4.pb\u001b[39m\u001b[39m\"\u001b[39m\n\u001b[1;32m---> <a href='vscode-notebook-cell:/g%3A/%EB%82%B4%20%EB%93%9C%EB%9D%BC%EC%9D%B4%EB%B8%8C/Github/Make_high-resolution_IMG/agent.ipynb#W0sZmlsZQ%3D%3D?line=78'>79</a>\u001b[0m \u001b[39melif\u001b[39;00m \u001b[39mself\u001b[39;49m\u001b[39m.\u001b[39;49mmodel\u001b[39m.\u001b[39mtext() \u001b[39m==\u001b[39m \u001b[39m'\u001b[39m\u001b[39m8\u001b[39m\u001b[39m'\u001b[39m:\n\u001b[0;32m     <a href='vscode-notebook-cell:/g%3A/%EB%82%B4%20%EB%93%9C%EB%9D%BC%EC%9D%B4%EB%B8%8C/Github/Make_high-resolution_IMG/agent.ipynb#W0sZmlsZQ%3D%3D?line=79'>80</a>\u001b[0m     model \u001b[39m=\u001b[39m \u001b[39m\"\u001b[39m\u001b[39mmodels/LapSRN_x8.pb\u001b[39m\u001b[39m\"\u001b[39m\n\u001b[0;32m     <a href='vscode-notebook-cell:/g%3A/%EB%82%B4%20%EB%93%9C%EB%9D%BC%EC%9D%B4%EB%B8%8C/Github/Make_high-resolution_IMG/agent.ipynb#W0sZmlsZQ%3D%3D?line=81'>82</a>\u001b[0m modelName \u001b[39m=\u001b[39m \u001b[39m\"\u001b[39m\u001b[39mlapsrn\u001b[39m\u001b[39m\"\u001b[39m \u001b[39m# model.split(os.path.sep)[-1].split(\"_\")[0].lower()\u001b[39;00m\n",
      "\u001b[1;31mAttributeError\u001b[0m: 'Resolution' object has no attribute 'model'"
     ]
    },
    {
     "ename": "AttributeError",
     "evalue": "'Resolution' object has no attribute 'model'",
     "output_type": "error",
     "traceback": [
      "\u001b[1;31m---------------------------------------------------------------------------\u001b[0m",
      "\u001b[1;31mAttributeError\u001b[0m                            Traceback (most recent call last)",
      "\u001b[1;32mg:\\내 드라이브\\Github\\Make_high-resolution_IMG\\agent.ipynb Cell 1\u001b[0m in \u001b[0;36mResolution.convertFucntion\u001b[1;34m(self)\u001b[0m\n\u001b[0;32m     <a href='vscode-notebook-cell:/g%3A/%EB%82%B4%20%EB%93%9C%EB%9D%BC%EC%9D%B4%EB%B8%8C/Github/Make_high-resolution_IMG/agent.ipynb#W0sZmlsZQ%3D%3D?line=76'>77</a>\u001b[0m \u001b[39melif\u001b[39;00m \u001b[39mself\u001b[39m\u001b[39m.\u001b[39mscale\u001b[39m.\u001b[39mtext() \u001b[39m==\u001b[39m \u001b[39m'\u001b[39m\u001b[39m4\u001b[39m\u001b[39m'\u001b[39m:\n\u001b[0;32m     <a href='vscode-notebook-cell:/g%3A/%EB%82%B4%20%EB%93%9C%EB%9D%BC%EC%9D%B4%EB%B8%8C/Github/Make_high-resolution_IMG/agent.ipynb#W0sZmlsZQ%3D%3D?line=77'>78</a>\u001b[0m     model \u001b[39m=\u001b[39m \u001b[39m\"\u001b[39m\u001b[39mmodels/LapSRN_x4.pb\u001b[39m\u001b[39m\"\u001b[39m\n\u001b[1;32m---> <a href='vscode-notebook-cell:/g%3A/%EB%82%B4%20%EB%93%9C%EB%9D%BC%EC%9D%B4%EB%B8%8C/Github/Make_high-resolution_IMG/agent.ipynb#W0sZmlsZQ%3D%3D?line=78'>79</a>\u001b[0m \u001b[39melif\u001b[39;00m \u001b[39mself\u001b[39;49m\u001b[39m.\u001b[39;49mmodel\u001b[39m.\u001b[39mtext() \u001b[39m==\u001b[39m \u001b[39m'\u001b[39m\u001b[39m8\u001b[39m\u001b[39m'\u001b[39m:\n\u001b[0;32m     <a href='vscode-notebook-cell:/g%3A/%EB%82%B4%20%EB%93%9C%EB%9D%BC%EC%9D%B4%EB%B8%8C/Github/Make_high-resolution_IMG/agent.ipynb#W0sZmlsZQ%3D%3D?line=79'>80</a>\u001b[0m     model \u001b[39m=\u001b[39m \u001b[39m\"\u001b[39m\u001b[39mmodels/LapSRN_x8.pb\u001b[39m\u001b[39m\"\u001b[39m\n\u001b[0;32m     <a href='vscode-notebook-cell:/g%3A/%EB%82%B4%20%EB%93%9C%EB%9D%BC%EC%9D%B4%EB%B8%8C/Github/Make_high-resolution_IMG/agent.ipynb#W0sZmlsZQ%3D%3D?line=81'>82</a>\u001b[0m modelName \u001b[39m=\u001b[39m \u001b[39m\"\u001b[39m\u001b[39mlapsrn\u001b[39m\u001b[39m\"\u001b[39m \u001b[39m# model.split(os.path.sep)[-1].split(\"_\")[0].lower()\u001b[39;00m\n",
      "\u001b[1;31mAttributeError\u001b[0m: 'Resolution' object has no attribute 'model'"
     ]
    },
    {
     "ename": "AttributeError",
     "evalue": "'Resolution' object has no attribute 'model'",
     "output_type": "error",
     "traceback": [
      "\u001b[1;31m---------------------------------------------------------------------------\u001b[0m",
      "\u001b[1;31mAttributeError\u001b[0m                            Traceback (most recent call last)",
      "\u001b[1;32mg:\\내 드라이브\\Github\\Make_high-resolution_IMG\\agent.ipynb Cell 1\u001b[0m in \u001b[0;36mResolution.convertFucntion\u001b[1;34m(self)\u001b[0m\n\u001b[0;32m     <a href='vscode-notebook-cell:/g%3A/%EB%82%B4%20%EB%93%9C%EB%9D%BC%EC%9D%B4%EB%B8%8C/Github/Make_high-resolution_IMG/agent.ipynb#W0sZmlsZQ%3D%3D?line=76'>77</a>\u001b[0m \u001b[39melif\u001b[39;00m \u001b[39mself\u001b[39m\u001b[39m.\u001b[39mscale\u001b[39m.\u001b[39mtext() \u001b[39m==\u001b[39m \u001b[39m'\u001b[39m\u001b[39m4\u001b[39m\u001b[39m'\u001b[39m:\n\u001b[0;32m     <a href='vscode-notebook-cell:/g%3A/%EB%82%B4%20%EB%93%9C%EB%9D%BC%EC%9D%B4%EB%B8%8C/Github/Make_high-resolution_IMG/agent.ipynb#W0sZmlsZQ%3D%3D?line=77'>78</a>\u001b[0m     model \u001b[39m=\u001b[39m \u001b[39m\"\u001b[39m\u001b[39mmodels/LapSRN_x4.pb\u001b[39m\u001b[39m\"\u001b[39m\n\u001b[1;32m---> <a href='vscode-notebook-cell:/g%3A/%EB%82%B4%20%EB%93%9C%EB%9D%BC%EC%9D%B4%EB%B8%8C/Github/Make_high-resolution_IMG/agent.ipynb#W0sZmlsZQ%3D%3D?line=78'>79</a>\u001b[0m \u001b[39melif\u001b[39;00m \u001b[39mself\u001b[39;49m\u001b[39m.\u001b[39;49mmodel\u001b[39m.\u001b[39mtext() \u001b[39m==\u001b[39m \u001b[39m'\u001b[39m\u001b[39m8\u001b[39m\u001b[39m'\u001b[39m:\n\u001b[0;32m     <a href='vscode-notebook-cell:/g%3A/%EB%82%B4%20%EB%93%9C%EB%9D%BC%EC%9D%B4%EB%B8%8C/Github/Make_high-resolution_IMG/agent.ipynb#W0sZmlsZQ%3D%3D?line=79'>80</a>\u001b[0m     model \u001b[39m=\u001b[39m \u001b[39m\"\u001b[39m\u001b[39mmodels/LapSRN_x8.pb\u001b[39m\u001b[39m\"\u001b[39m\n\u001b[0;32m     <a href='vscode-notebook-cell:/g%3A/%EB%82%B4%20%EB%93%9C%EB%9D%BC%EC%9D%B4%EB%B8%8C/Github/Make_high-resolution_IMG/agent.ipynb#W0sZmlsZQ%3D%3D?line=81'>82</a>\u001b[0m modelName \u001b[39m=\u001b[39m \u001b[39m\"\u001b[39m\u001b[39mlapsrn\u001b[39m\u001b[39m\"\u001b[39m \u001b[39m# model.split(os.path.sep)[-1].split(\"_\")[0].lower()\u001b[39;00m\n",
      "\u001b[1;31mAttributeError\u001b[0m: 'Resolution' object has no attribute 'model'"
     ]
    },
    {
     "ename": "AttributeError",
     "evalue": "'Resolution' object has no attribute 'model'",
     "output_type": "error",
     "traceback": [
      "\u001b[1;31m---------------------------------------------------------------------------\u001b[0m",
      "\u001b[1;31mAttributeError\u001b[0m                            Traceback (most recent call last)",
      "\u001b[1;32mg:\\내 드라이브\\Github\\Make_high-resolution_IMG\\agent.ipynb Cell 1\u001b[0m in \u001b[0;36mResolution.convertFucntion\u001b[1;34m(self)\u001b[0m\n\u001b[0;32m     <a href='vscode-notebook-cell:/g%3A/%EB%82%B4%20%EB%93%9C%EB%9D%BC%EC%9D%B4%EB%B8%8C/Github/Make_high-resolution_IMG/agent.ipynb#W0sZmlsZQ%3D%3D?line=76'>77</a>\u001b[0m \u001b[39melif\u001b[39;00m \u001b[39mself\u001b[39m\u001b[39m.\u001b[39mscale\u001b[39m.\u001b[39mtext() \u001b[39m==\u001b[39m \u001b[39m'\u001b[39m\u001b[39m4\u001b[39m\u001b[39m'\u001b[39m:\n\u001b[0;32m     <a href='vscode-notebook-cell:/g%3A/%EB%82%B4%20%EB%93%9C%EB%9D%BC%EC%9D%B4%EB%B8%8C/Github/Make_high-resolution_IMG/agent.ipynb#W0sZmlsZQ%3D%3D?line=77'>78</a>\u001b[0m     model \u001b[39m=\u001b[39m \u001b[39m\"\u001b[39m\u001b[39mmodels/LapSRN_x4.pb\u001b[39m\u001b[39m\"\u001b[39m\n\u001b[1;32m---> <a href='vscode-notebook-cell:/g%3A/%EB%82%B4%20%EB%93%9C%EB%9D%BC%EC%9D%B4%EB%B8%8C/Github/Make_high-resolution_IMG/agent.ipynb#W0sZmlsZQ%3D%3D?line=78'>79</a>\u001b[0m \u001b[39melif\u001b[39;00m \u001b[39mself\u001b[39;49m\u001b[39m.\u001b[39;49mmodel\u001b[39m.\u001b[39mtext() \u001b[39m==\u001b[39m \u001b[39m'\u001b[39m\u001b[39m8\u001b[39m\u001b[39m'\u001b[39m:\n\u001b[0;32m     <a href='vscode-notebook-cell:/g%3A/%EB%82%B4%20%EB%93%9C%EB%9D%BC%EC%9D%B4%EB%B8%8C/Github/Make_high-resolution_IMG/agent.ipynb#W0sZmlsZQ%3D%3D?line=79'>80</a>\u001b[0m     model \u001b[39m=\u001b[39m \u001b[39m\"\u001b[39m\u001b[39mmodels/LapSRN_x8.pb\u001b[39m\u001b[39m\"\u001b[39m\n\u001b[0;32m     <a href='vscode-notebook-cell:/g%3A/%EB%82%B4%20%EB%93%9C%EB%9D%BC%EC%9D%B4%EB%B8%8C/Github/Make_high-resolution_IMG/agent.ipynb#W0sZmlsZQ%3D%3D?line=81'>82</a>\u001b[0m modelName \u001b[39m=\u001b[39m \u001b[39m\"\u001b[39m\u001b[39mlapsrn\u001b[39m\u001b[39m\"\u001b[39m \u001b[39m# model.split(os.path.sep)[-1].split(\"_\")[0].lower()\u001b[39;00m\n",
      "\u001b[1;31mAttributeError\u001b[0m: 'Resolution' object has no attribute 'model'"
     ]
    },
    {
     "name": "stdout",
     "output_type": "stream",
     "text": [
      "super-resolution\n",
      "super-resolution\n"
     ]
    },
    {
     "ename": "AttributeError",
     "evalue": "'Resolution' object has no attribute 'model'",
     "output_type": "error",
     "traceback": [
      "\u001b[1;31m---------------------------------------------------------------------------\u001b[0m",
      "\u001b[1;31mAttributeError\u001b[0m                            Traceback (most recent call last)",
      "\u001b[1;32mg:\\내 드라이브\\Github\\Make_high-resolution_IMG\\agent.ipynb Cell 1\u001b[0m in \u001b[0;36mResolution.convertFucntion\u001b[1;34m(self)\u001b[0m\n\u001b[0;32m     <a href='vscode-notebook-cell:/g%3A/%EB%82%B4%20%EB%93%9C%EB%9D%BC%EC%9D%B4%EB%B8%8C/Github/Make_high-resolution_IMG/agent.ipynb#W0sZmlsZQ%3D%3D?line=76'>77</a>\u001b[0m \u001b[39melif\u001b[39;00m \u001b[39mself\u001b[39m\u001b[39m.\u001b[39mscale\u001b[39m.\u001b[39mtext() \u001b[39m==\u001b[39m \u001b[39m'\u001b[39m\u001b[39m4\u001b[39m\u001b[39m'\u001b[39m:\n\u001b[0;32m     <a href='vscode-notebook-cell:/g%3A/%EB%82%B4%20%EB%93%9C%EB%9D%BC%EC%9D%B4%EB%B8%8C/Github/Make_high-resolution_IMG/agent.ipynb#W0sZmlsZQ%3D%3D?line=77'>78</a>\u001b[0m     model \u001b[39m=\u001b[39m \u001b[39m\"\u001b[39m\u001b[39mmodels/LapSRN_x4.pb\u001b[39m\u001b[39m\"\u001b[39m\n\u001b[1;32m---> <a href='vscode-notebook-cell:/g%3A/%EB%82%B4%20%EB%93%9C%EB%9D%BC%EC%9D%B4%EB%B8%8C/Github/Make_high-resolution_IMG/agent.ipynb#W0sZmlsZQ%3D%3D?line=78'>79</a>\u001b[0m \u001b[39melif\u001b[39;00m \u001b[39mself\u001b[39;49m\u001b[39m.\u001b[39;49mmodel\u001b[39m.\u001b[39mtext() \u001b[39m==\u001b[39m \u001b[39m'\u001b[39m\u001b[39m8\u001b[39m\u001b[39m'\u001b[39m:\n\u001b[0;32m     <a href='vscode-notebook-cell:/g%3A/%EB%82%B4%20%EB%93%9C%EB%9D%BC%EC%9D%B4%EB%B8%8C/Github/Make_high-resolution_IMG/agent.ipynb#W0sZmlsZQ%3D%3D?line=79'>80</a>\u001b[0m     model \u001b[39m=\u001b[39m \u001b[39m\"\u001b[39m\u001b[39mmodels/LapSRN_x8.pb\u001b[39m\u001b[39m\"\u001b[39m\n\u001b[0;32m     <a href='vscode-notebook-cell:/g%3A/%EB%82%B4%20%EB%93%9C%EB%9D%BC%EC%9D%B4%EB%B8%8C/Github/Make_high-resolution_IMG/agent.ipynb#W0sZmlsZQ%3D%3D?line=81'>82</a>\u001b[0m modelName \u001b[39m=\u001b[39m \u001b[39m\"\u001b[39m\u001b[39mlapsrn\u001b[39m\u001b[39m\"\u001b[39m \u001b[39m# model.split(os.path.sep)[-1].split(\"_\")[0].lower()\u001b[39;00m\n",
      "\u001b[1;31mAttributeError\u001b[0m: 'Resolution' object has no attribute 'model'"
     ]
    },
    {
     "ename": "AttributeError",
     "evalue": "'Resolution' object has no attribute 'model'",
     "output_type": "error",
     "traceback": [
      "\u001b[1;31m---------------------------------------------------------------------------\u001b[0m",
      "\u001b[1;31mAttributeError\u001b[0m                            Traceback (most recent call last)",
      "\u001b[1;32mg:\\내 드라이브\\Github\\Make_high-resolution_IMG\\agent.ipynb Cell 1\u001b[0m in \u001b[0;36mResolution.convertFucntion\u001b[1;34m(self)\u001b[0m\n\u001b[0;32m     <a href='vscode-notebook-cell:/g%3A/%EB%82%B4%20%EB%93%9C%EB%9D%BC%EC%9D%B4%EB%B8%8C/Github/Make_high-resolution_IMG/agent.ipynb#W0sZmlsZQ%3D%3D?line=76'>77</a>\u001b[0m \u001b[39melif\u001b[39;00m \u001b[39mself\u001b[39m\u001b[39m.\u001b[39mscale\u001b[39m.\u001b[39mtext() \u001b[39m==\u001b[39m \u001b[39m'\u001b[39m\u001b[39m4\u001b[39m\u001b[39m'\u001b[39m:\n\u001b[0;32m     <a href='vscode-notebook-cell:/g%3A/%EB%82%B4%20%EB%93%9C%EB%9D%BC%EC%9D%B4%EB%B8%8C/Github/Make_high-resolution_IMG/agent.ipynb#W0sZmlsZQ%3D%3D?line=77'>78</a>\u001b[0m     model \u001b[39m=\u001b[39m \u001b[39m\"\u001b[39m\u001b[39mmodels/LapSRN_x4.pb\u001b[39m\u001b[39m\"\u001b[39m\n\u001b[1;32m---> <a href='vscode-notebook-cell:/g%3A/%EB%82%B4%20%EB%93%9C%EB%9D%BC%EC%9D%B4%EB%B8%8C/Github/Make_high-resolution_IMG/agent.ipynb#W0sZmlsZQ%3D%3D?line=78'>79</a>\u001b[0m \u001b[39melif\u001b[39;00m \u001b[39mself\u001b[39;49m\u001b[39m.\u001b[39;49mmodel\u001b[39m.\u001b[39mtext() \u001b[39m==\u001b[39m \u001b[39m'\u001b[39m\u001b[39m8\u001b[39m\u001b[39m'\u001b[39m:\n\u001b[0;32m     <a href='vscode-notebook-cell:/g%3A/%EB%82%B4%20%EB%93%9C%EB%9D%BC%EC%9D%B4%EB%B8%8C/Github/Make_high-resolution_IMG/agent.ipynb#W0sZmlsZQ%3D%3D?line=79'>80</a>\u001b[0m     model \u001b[39m=\u001b[39m \u001b[39m\"\u001b[39m\u001b[39mmodels/LapSRN_x8.pb\u001b[39m\u001b[39m\"\u001b[39m\n\u001b[0;32m     <a href='vscode-notebook-cell:/g%3A/%EB%82%B4%20%EB%93%9C%EB%9D%BC%EC%9D%B4%EB%B8%8C/Github/Make_high-resolution_IMG/agent.ipynb#W0sZmlsZQ%3D%3D?line=81'>82</a>\u001b[0m modelName \u001b[39m=\u001b[39m \u001b[39m\"\u001b[39m\u001b[39mlapsrn\u001b[39m\u001b[39m\"\u001b[39m \u001b[39m# model.split(os.path.sep)[-1].split(\"_\")[0].lower()\u001b[39;00m\n",
      "\u001b[1;31mAttributeError\u001b[0m: 'Resolution' object has no attribute 'model'"
     ]
    },
    {
     "ename": "AttributeError",
     "evalue": "'Resolution' object has no attribute 'model'",
     "output_type": "error",
     "traceback": [
      "\u001b[1;31m---------------------------------------------------------------------------\u001b[0m",
      "\u001b[1;31mAttributeError\u001b[0m                            Traceback (most recent call last)",
      "\u001b[1;32mg:\\내 드라이브\\Github\\Make_high-resolution_IMG\\agent.ipynb Cell 1\u001b[0m in \u001b[0;36mResolution.convertFucntion\u001b[1;34m(self)\u001b[0m\n\u001b[0;32m     <a href='vscode-notebook-cell:/g%3A/%EB%82%B4%20%EB%93%9C%EB%9D%BC%EC%9D%B4%EB%B8%8C/Github/Make_high-resolution_IMG/agent.ipynb#W0sZmlsZQ%3D%3D?line=76'>77</a>\u001b[0m \u001b[39melif\u001b[39;00m \u001b[39mself\u001b[39m\u001b[39m.\u001b[39mscale\u001b[39m.\u001b[39mtext() \u001b[39m==\u001b[39m \u001b[39m'\u001b[39m\u001b[39m4\u001b[39m\u001b[39m'\u001b[39m:\n\u001b[0;32m     <a href='vscode-notebook-cell:/g%3A/%EB%82%B4%20%EB%93%9C%EB%9D%BC%EC%9D%B4%EB%B8%8C/Github/Make_high-resolution_IMG/agent.ipynb#W0sZmlsZQ%3D%3D?line=77'>78</a>\u001b[0m     model \u001b[39m=\u001b[39m \u001b[39m\"\u001b[39m\u001b[39mmodels/LapSRN_x4.pb\u001b[39m\u001b[39m\"\u001b[39m\n\u001b[1;32m---> <a href='vscode-notebook-cell:/g%3A/%EB%82%B4%20%EB%93%9C%EB%9D%BC%EC%9D%B4%EB%B8%8C/Github/Make_high-resolution_IMG/agent.ipynb#W0sZmlsZQ%3D%3D?line=78'>79</a>\u001b[0m \u001b[39melif\u001b[39;00m \u001b[39mself\u001b[39;49m\u001b[39m.\u001b[39;49mmodel\u001b[39m.\u001b[39mtext() \u001b[39m==\u001b[39m \u001b[39m'\u001b[39m\u001b[39m8\u001b[39m\u001b[39m'\u001b[39m:\n\u001b[0;32m     <a href='vscode-notebook-cell:/g%3A/%EB%82%B4%20%EB%93%9C%EB%9D%BC%EC%9D%B4%EB%B8%8C/Github/Make_high-resolution_IMG/agent.ipynb#W0sZmlsZQ%3D%3D?line=79'>80</a>\u001b[0m     model \u001b[39m=\u001b[39m \u001b[39m\"\u001b[39m\u001b[39mmodels/LapSRN_x8.pb\u001b[39m\u001b[39m\"\u001b[39m\n\u001b[0;32m     <a href='vscode-notebook-cell:/g%3A/%EB%82%B4%20%EB%93%9C%EB%9D%BC%EC%9D%B4%EB%B8%8C/Github/Make_high-resolution_IMG/agent.ipynb#W0sZmlsZQ%3D%3D?line=81'>82</a>\u001b[0m modelName \u001b[39m=\u001b[39m \u001b[39m\"\u001b[39m\u001b[39mlapsrn\u001b[39m\u001b[39m\"\u001b[39m \u001b[39m# model.split(os.path.sep)[-1].split(\"_\")[0].lower()\u001b[39;00m\n",
      "\u001b[1;31mAttributeError\u001b[0m: 'Resolution' object has no attribute 'model'"
     ]
    },
    {
     "ename": "AttributeError",
     "evalue": "'Resolution' object has no attribute 'model'",
     "output_type": "error",
     "traceback": [
      "\u001b[1;31m---------------------------------------------------------------------------\u001b[0m",
      "\u001b[1;31mAttributeError\u001b[0m                            Traceback (most recent call last)",
      "\u001b[1;32mg:\\내 드라이브\\Github\\Make_high-resolution_IMG\\agent.ipynb Cell 1\u001b[0m in \u001b[0;36mResolution.convertFucntion\u001b[1;34m(self)\u001b[0m\n\u001b[0;32m     <a href='vscode-notebook-cell:/g%3A/%EB%82%B4%20%EB%93%9C%EB%9D%BC%EC%9D%B4%EB%B8%8C/Github/Make_high-resolution_IMG/agent.ipynb#W0sZmlsZQ%3D%3D?line=76'>77</a>\u001b[0m \u001b[39melif\u001b[39;00m \u001b[39mself\u001b[39m\u001b[39m.\u001b[39mscale\u001b[39m.\u001b[39mtext() \u001b[39m==\u001b[39m \u001b[39m'\u001b[39m\u001b[39m4\u001b[39m\u001b[39m'\u001b[39m:\n\u001b[0;32m     <a href='vscode-notebook-cell:/g%3A/%EB%82%B4%20%EB%93%9C%EB%9D%BC%EC%9D%B4%EB%B8%8C/Github/Make_high-resolution_IMG/agent.ipynb#W0sZmlsZQ%3D%3D?line=77'>78</a>\u001b[0m     model \u001b[39m=\u001b[39m \u001b[39m\"\u001b[39m\u001b[39mmodels/LapSRN_x4.pb\u001b[39m\u001b[39m\"\u001b[39m\n\u001b[1;32m---> <a href='vscode-notebook-cell:/g%3A/%EB%82%B4%20%EB%93%9C%EB%9D%BC%EC%9D%B4%EB%B8%8C/Github/Make_high-resolution_IMG/agent.ipynb#W0sZmlsZQ%3D%3D?line=78'>79</a>\u001b[0m \u001b[39melif\u001b[39;00m \u001b[39mself\u001b[39;49m\u001b[39m.\u001b[39;49mmodel\u001b[39m.\u001b[39mtext() \u001b[39m==\u001b[39m \u001b[39m'\u001b[39m\u001b[39m8\u001b[39m\u001b[39m'\u001b[39m:\n\u001b[0;32m     <a href='vscode-notebook-cell:/g%3A/%EB%82%B4%20%EB%93%9C%EB%9D%BC%EC%9D%B4%EB%B8%8C/Github/Make_high-resolution_IMG/agent.ipynb#W0sZmlsZQ%3D%3D?line=79'>80</a>\u001b[0m     model \u001b[39m=\u001b[39m \u001b[39m\"\u001b[39m\u001b[39mmodels/LapSRN_x8.pb\u001b[39m\u001b[39m\"\u001b[39m\n\u001b[0;32m     <a href='vscode-notebook-cell:/g%3A/%EB%82%B4%20%EB%93%9C%EB%9D%BC%EC%9D%B4%EB%B8%8C/Github/Make_high-resolution_IMG/agent.ipynb#W0sZmlsZQ%3D%3D?line=81'>82</a>\u001b[0m modelName \u001b[39m=\u001b[39m \u001b[39m\"\u001b[39m\u001b[39mlapsrn\u001b[39m\u001b[39m\"\u001b[39m \u001b[39m# model.split(os.path.sep)[-1].split(\"_\")[0].lower()\u001b[39;00m\n",
      "\u001b[1;31mAttributeError\u001b[0m: 'Resolution' object has no attribute 'model'"
     ]
    },
    {
     "ename": "AttributeError",
     "evalue": "'Resolution' object has no attribute 'model'",
     "output_type": "error",
     "traceback": [
      "\u001b[1;31m---------------------------------------------------------------------------\u001b[0m",
      "\u001b[1;31mAttributeError\u001b[0m                            Traceback (most recent call last)",
      "\u001b[1;32mg:\\내 드라이브\\Github\\Make_high-resolution_IMG\\agent.ipynb Cell 1\u001b[0m in \u001b[0;36mResolution.convertFucntion\u001b[1;34m(self)\u001b[0m\n\u001b[0;32m     <a href='vscode-notebook-cell:/g%3A/%EB%82%B4%20%EB%93%9C%EB%9D%BC%EC%9D%B4%EB%B8%8C/Github/Make_high-resolution_IMG/agent.ipynb#W0sZmlsZQ%3D%3D?line=76'>77</a>\u001b[0m \u001b[39melif\u001b[39;00m \u001b[39mself\u001b[39m\u001b[39m.\u001b[39mscale\u001b[39m.\u001b[39mtext() \u001b[39m==\u001b[39m \u001b[39m'\u001b[39m\u001b[39m4\u001b[39m\u001b[39m'\u001b[39m:\n\u001b[0;32m     <a href='vscode-notebook-cell:/g%3A/%EB%82%B4%20%EB%93%9C%EB%9D%BC%EC%9D%B4%EB%B8%8C/Github/Make_high-resolution_IMG/agent.ipynb#W0sZmlsZQ%3D%3D?line=77'>78</a>\u001b[0m     model \u001b[39m=\u001b[39m \u001b[39m\"\u001b[39m\u001b[39mmodels/LapSRN_x4.pb\u001b[39m\u001b[39m\"\u001b[39m\n\u001b[1;32m---> <a href='vscode-notebook-cell:/g%3A/%EB%82%B4%20%EB%93%9C%EB%9D%BC%EC%9D%B4%EB%B8%8C/Github/Make_high-resolution_IMG/agent.ipynb#W0sZmlsZQ%3D%3D?line=78'>79</a>\u001b[0m \u001b[39melif\u001b[39;00m \u001b[39mself\u001b[39;49m\u001b[39m.\u001b[39;49mmodel\u001b[39m.\u001b[39mtext() \u001b[39m==\u001b[39m \u001b[39m'\u001b[39m\u001b[39m8\u001b[39m\u001b[39m'\u001b[39m:\n\u001b[0;32m     <a href='vscode-notebook-cell:/g%3A/%EB%82%B4%20%EB%93%9C%EB%9D%BC%EC%9D%B4%EB%B8%8C/Github/Make_high-resolution_IMG/agent.ipynb#W0sZmlsZQ%3D%3D?line=79'>80</a>\u001b[0m     model \u001b[39m=\u001b[39m \u001b[39m\"\u001b[39m\u001b[39mmodels/LapSRN_x8.pb\u001b[39m\u001b[39m\"\u001b[39m\n\u001b[0;32m     <a href='vscode-notebook-cell:/g%3A/%EB%82%B4%20%EB%93%9C%EB%9D%BC%EC%9D%B4%EB%B8%8C/Github/Make_high-resolution_IMG/agent.ipynb#W0sZmlsZQ%3D%3D?line=81'>82</a>\u001b[0m modelName \u001b[39m=\u001b[39m \u001b[39m\"\u001b[39m\u001b[39mlapsrn\u001b[39m\u001b[39m\"\u001b[39m \u001b[39m# model.split(os.path.sep)[-1].split(\"_\")[0].lower()\u001b[39;00m\n",
      "\u001b[1;31mAttributeError\u001b[0m: 'Resolution' object has no attribute 'model'"
     ]
    },
    {
     "ename": "AttributeError",
     "evalue": "'Resolution' object has no attribute 'model'",
     "output_type": "error",
     "traceback": [
      "\u001b[1;31m---------------------------------------------------------------------------\u001b[0m",
      "\u001b[1;31mAttributeError\u001b[0m                            Traceback (most recent call last)",
      "\u001b[1;32mg:\\내 드라이브\\Github\\Make_high-resolution_IMG\\agent.ipynb Cell 1\u001b[0m in \u001b[0;36mResolution.convertFucntion\u001b[1;34m(self)\u001b[0m\n\u001b[0;32m     <a href='vscode-notebook-cell:/g%3A/%EB%82%B4%20%EB%93%9C%EB%9D%BC%EC%9D%B4%EB%B8%8C/Github/Make_high-resolution_IMG/agent.ipynb#W0sZmlsZQ%3D%3D?line=76'>77</a>\u001b[0m \u001b[39melif\u001b[39;00m \u001b[39mself\u001b[39m\u001b[39m.\u001b[39mscale\u001b[39m.\u001b[39mtext() \u001b[39m==\u001b[39m \u001b[39m'\u001b[39m\u001b[39m4\u001b[39m\u001b[39m'\u001b[39m:\n\u001b[0;32m     <a href='vscode-notebook-cell:/g%3A/%EB%82%B4%20%EB%93%9C%EB%9D%BC%EC%9D%B4%EB%B8%8C/Github/Make_high-resolution_IMG/agent.ipynb#W0sZmlsZQ%3D%3D?line=77'>78</a>\u001b[0m     model \u001b[39m=\u001b[39m \u001b[39m\"\u001b[39m\u001b[39mmodels/LapSRN_x4.pb\u001b[39m\u001b[39m\"\u001b[39m\n\u001b[1;32m---> <a href='vscode-notebook-cell:/g%3A/%EB%82%B4%20%EB%93%9C%EB%9D%BC%EC%9D%B4%EB%B8%8C/Github/Make_high-resolution_IMG/agent.ipynb#W0sZmlsZQ%3D%3D?line=78'>79</a>\u001b[0m \u001b[39melif\u001b[39;00m \u001b[39mself\u001b[39;49m\u001b[39m.\u001b[39;49mmodel\u001b[39m.\u001b[39mtext() \u001b[39m==\u001b[39m \u001b[39m'\u001b[39m\u001b[39m8\u001b[39m\u001b[39m'\u001b[39m:\n\u001b[0;32m     <a href='vscode-notebook-cell:/g%3A/%EB%82%B4%20%EB%93%9C%EB%9D%BC%EC%9D%B4%EB%B8%8C/Github/Make_high-resolution_IMG/agent.ipynb#W0sZmlsZQ%3D%3D?line=79'>80</a>\u001b[0m     model \u001b[39m=\u001b[39m \u001b[39m\"\u001b[39m\u001b[39mmodels/LapSRN_x8.pb\u001b[39m\u001b[39m\"\u001b[39m\n\u001b[0;32m     <a href='vscode-notebook-cell:/g%3A/%EB%82%B4%20%EB%93%9C%EB%9D%BC%EC%9D%B4%EB%B8%8C/Github/Make_high-resolution_IMG/agent.ipynb#W0sZmlsZQ%3D%3D?line=81'>82</a>\u001b[0m modelName \u001b[39m=\u001b[39m \u001b[39m\"\u001b[39m\u001b[39mlapsrn\u001b[39m\u001b[39m\"\u001b[39m \u001b[39m# model.split(os.path.sep)[-1].split(\"_\")[0].lower()\u001b[39;00m\n",
      "\u001b[1;31mAttributeError\u001b[0m: 'Resolution' object has no attribute 'model'"
     ]
    },
    {
     "ename": "AttributeError",
     "evalue": "'Resolution' object has no attribute 'model'",
     "output_type": "error",
     "traceback": [
      "\u001b[1;31m---------------------------------------------------------------------------\u001b[0m",
      "\u001b[1;31mAttributeError\u001b[0m                            Traceback (most recent call last)",
      "\u001b[1;32mg:\\내 드라이브\\Github\\Make_high-resolution_IMG\\agent.ipynb Cell 1\u001b[0m in \u001b[0;36mResolution.convertFucntion\u001b[1;34m(self)\u001b[0m\n\u001b[0;32m     <a href='vscode-notebook-cell:/g%3A/%EB%82%B4%20%EB%93%9C%EB%9D%BC%EC%9D%B4%EB%B8%8C/Github/Make_high-resolution_IMG/agent.ipynb#W0sZmlsZQ%3D%3D?line=76'>77</a>\u001b[0m \u001b[39melif\u001b[39;00m \u001b[39mself\u001b[39m\u001b[39m.\u001b[39mscale\u001b[39m.\u001b[39mtext() \u001b[39m==\u001b[39m \u001b[39m'\u001b[39m\u001b[39m4\u001b[39m\u001b[39m'\u001b[39m:\n\u001b[0;32m     <a href='vscode-notebook-cell:/g%3A/%EB%82%B4%20%EB%93%9C%EB%9D%BC%EC%9D%B4%EB%B8%8C/Github/Make_high-resolution_IMG/agent.ipynb#W0sZmlsZQ%3D%3D?line=77'>78</a>\u001b[0m     model \u001b[39m=\u001b[39m \u001b[39m\"\u001b[39m\u001b[39mmodels/LapSRN_x4.pb\u001b[39m\u001b[39m\"\u001b[39m\n\u001b[1;32m---> <a href='vscode-notebook-cell:/g%3A/%EB%82%B4%20%EB%93%9C%EB%9D%BC%EC%9D%B4%EB%B8%8C/Github/Make_high-resolution_IMG/agent.ipynb#W0sZmlsZQ%3D%3D?line=78'>79</a>\u001b[0m \u001b[39melif\u001b[39;00m \u001b[39mself\u001b[39;49m\u001b[39m.\u001b[39;49mmodel\u001b[39m.\u001b[39mtext() \u001b[39m==\u001b[39m \u001b[39m'\u001b[39m\u001b[39m8\u001b[39m\u001b[39m'\u001b[39m:\n\u001b[0;32m     <a href='vscode-notebook-cell:/g%3A/%EB%82%B4%20%EB%93%9C%EB%9D%BC%EC%9D%B4%EB%B8%8C/Github/Make_high-resolution_IMG/agent.ipynb#W0sZmlsZQ%3D%3D?line=79'>80</a>\u001b[0m     model \u001b[39m=\u001b[39m \u001b[39m\"\u001b[39m\u001b[39mmodels/LapSRN_x8.pb\u001b[39m\u001b[39m\"\u001b[39m\n\u001b[0;32m     <a href='vscode-notebook-cell:/g%3A/%EB%82%B4%20%EB%93%9C%EB%9D%BC%EC%9D%B4%EB%B8%8C/Github/Make_high-resolution_IMG/agent.ipynb#W0sZmlsZQ%3D%3D?line=81'>82</a>\u001b[0m modelName \u001b[39m=\u001b[39m \u001b[39m\"\u001b[39m\u001b[39mlapsrn\u001b[39m\u001b[39m\"\u001b[39m \u001b[39m# model.split(os.path.sep)[-1].split(\"_\")[0].lower()\u001b[39;00m\n",
      "\u001b[1;31mAttributeError\u001b[0m: 'Resolution' object has no attribute 'model'"
     ]
    },
    {
     "ename": "AttributeError",
     "evalue": "'Resolution' object has no attribute 'model'",
     "output_type": "error",
     "traceback": [
      "\u001b[1;31m---------------------------------------------------------------------------\u001b[0m",
      "\u001b[1;31mAttributeError\u001b[0m                            Traceback (most recent call last)",
      "\u001b[1;32mg:\\내 드라이브\\Github\\Make_high-resolution_IMG\\agent.ipynb Cell 1\u001b[0m in \u001b[0;36mResolution.convertFucntion\u001b[1;34m(self)\u001b[0m\n\u001b[0;32m     <a href='vscode-notebook-cell:/g%3A/%EB%82%B4%20%EB%93%9C%EB%9D%BC%EC%9D%B4%EB%B8%8C/Github/Make_high-resolution_IMG/agent.ipynb#W0sZmlsZQ%3D%3D?line=76'>77</a>\u001b[0m \u001b[39melif\u001b[39;00m \u001b[39mself\u001b[39m\u001b[39m.\u001b[39mscale\u001b[39m.\u001b[39mtext() \u001b[39m==\u001b[39m \u001b[39m'\u001b[39m\u001b[39m4\u001b[39m\u001b[39m'\u001b[39m:\n\u001b[0;32m     <a href='vscode-notebook-cell:/g%3A/%EB%82%B4%20%EB%93%9C%EB%9D%BC%EC%9D%B4%EB%B8%8C/Github/Make_high-resolution_IMG/agent.ipynb#W0sZmlsZQ%3D%3D?line=77'>78</a>\u001b[0m     model \u001b[39m=\u001b[39m \u001b[39m\"\u001b[39m\u001b[39mmodels/LapSRN_x4.pb\u001b[39m\u001b[39m\"\u001b[39m\n\u001b[1;32m---> <a href='vscode-notebook-cell:/g%3A/%EB%82%B4%20%EB%93%9C%EB%9D%BC%EC%9D%B4%EB%B8%8C/Github/Make_high-resolution_IMG/agent.ipynb#W0sZmlsZQ%3D%3D?line=78'>79</a>\u001b[0m \u001b[39melif\u001b[39;00m \u001b[39mself\u001b[39;49m\u001b[39m.\u001b[39;49mmodel\u001b[39m.\u001b[39mtext() \u001b[39m==\u001b[39m \u001b[39m'\u001b[39m\u001b[39m8\u001b[39m\u001b[39m'\u001b[39m:\n\u001b[0;32m     <a href='vscode-notebook-cell:/g%3A/%EB%82%B4%20%EB%93%9C%EB%9D%BC%EC%9D%B4%EB%B8%8C/Github/Make_high-resolution_IMG/agent.ipynb#W0sZmlsZQ%3D%3D?line=79'>80</a>\u001b[0m     model \u001b[39m=\u001b[39m \u001b[39m\"\u001b[39m\u001b[39mmodels/LapSRN_x8.pb\u001b[39m\u001b[39m\"\u001b[39m\n\u001b[0;32m     <a href='vscode-notebook-cell:/g%3A/%EB%82%B4%20%EB%93%9C%EB%9D%BC%EC%9D%B4%EB%B8%8C/Github/Make_high-resolution_IMG/agent.ipynb#W0sZmlsZQ%3D%3D?line=81'>82</a>\u001b[0m modelName \u001b[39m=\u001b[39m \u001b[39m\"\u001b[39m\u001b[39mlapsrn\u001b[39m\u001b[39m\"\u001b[39m \u001b[39m# model.split(os.path.sep)[-1].split(\"_\")[0].lower()\u001b[39;00m\n",
      "\u001b[1;31mAttributeError\u001b[0m: 'Resolution' object has no attribute 'model'"
     ]
    },
    {
     "ename": "AttributeError",
     "evalue": "'Resolution' object has no attribute 'model'",
     "output_type": "error",
     "traceback": [
      "\u001b[1;31m---------------------------------------------------------------------------\u001b[0m",
      "\u001b[1;31mAttributeError\u001b[0m                            Traceback (most recent call last)",
      "\u001b[1;32mg:\\내 드라이브\\Github\\Make_high-resolution_IMG\\agent.ipynb Cell 1\u001b[0m in \u001b[0;36mResolution.convertFucntion\u001b[1;34m(self)\u001b[0m\n\u001b[0;32m     <a href='vscode-notebook-cell:/g%3A/%EB%82%B4%20%EB%93%9C%EB%9D%BC%EC%9D%B4%EB%B8%8C/Github/Make_high-resolution_IMG/agent.ipynb#W0sZmlsZQ%3D%3D?line=76'>77</a>\u001b[0m \u001b[39melif\u001b[39;00m \u001b[39mself\u001b[39m\u001b[39m.\u001b[39mscale\u001b[39m.\u001b[39mtext() \u001b[39m==\u001b[39m \u001b[39m'\u001b[39m\u001b[39m4\u001b[39m\u001b[39m'\u001b[39m:\n\u001b[0;32m     <a href='vscode-notebook-cell:/g%3A/%EB%82%B4%20%EB%93%9C%EB%9D%BC%EC%9D%B4%EB%B8%8C/Github/Make_high-resolution_IMG/agent.ipynb#W0sZmlsZQ%3D%3D?line=77'>78</a>\u001b[0m     model \u001b[39m=\u001b[39m \u001b[39m\"\u001b[39m\u001b[39mmodels/LapSRN_x4.pb\u001b[39m\u001b[39m\"\u001b[39m\n\u001b[1;32m---> <a href='vscode-notebook-cell:/g%3A/%EB%82%B4%20%EB%93%9C%EB%9D%BC%EC%9D%B4%EB%B8%8C/Github/Make_high-resolution_IMG/agent.ipynb#W0sZmlsZQ%3D%3D?line=78'>79</a>\u001b[0m \u001b[39melif\u001b[39;00m \u001b[39mself\u001b[39;49m\u001b[39m.\u001b[39;49mmodel\u001b[39m.\u001b[39mtext() \u001b[39m==\u001b[39m \u001b[39m'\u001b[39m\u001b[39m8\u001b[39m\u001b[39m'\u001b[39m:\n\u001b[0;32m     <a href='vscode-notebook-cell:/g%3A/%EB%82%B4%20%EB%93%9C%EB%9D%BC%EC%9D%B4%EB%B8%8C/Github/Make_high-resolution_IMG/agent.ipynb#W0sZmlsZQ%3D%3D?line=79'>80</a>\u001b[0m     model \u001b[39m=\u001b[39m \u001b[39m\"\u001b[39m\u001b[39mmodels/LapSRN_x8.pb\u001b[39m\u001b[39m\"\u001b[39m\n\u001b[0;32m     <a href='vscode-notebook-cell:/g%3A/%EB%82%B4%20%EB%93%9C%EB%9D%BC%EC%9D%B4%EB%B8%8C/Github/Make_high-resolution_IMG/agent.ipynb#W0sZmlsZQ%3D%3D?line=81'>82</a>\u001b[0m modelName \u001b[39m=\u001b[39m \u001b[39m\"\u001b[39m\u001b[39mlapsrn\u001b[39m\u001b[39m\"\u001b[39m \u001b[39m# model.split(os.path.sep)[-1].split(\"_\")[0].lower()\u001b[39;00m\n",
      "\u001b[1;31mAttributeError\u001b[0m: 'Resolution' object has no attribute 'model'"
     ]
    },
    {
     "ename": "AttributeError",
     "evalue": "'Resolution' object has no attribute 'model'",
     "output_type": "error",
     "traceback": [
      "\u001b[1;31m---------------------------------------------------------------------------\u001b[0m",
      "\u001b[1;31mAttributeError\u001b[0m                            Traceback (most recent call last)",
      "\u001b[1;32mg:\\내 드라이브\\Github\\Make_high-resolution_IMG\\agent.ipynb Cell 1\u001b[0m in \u001b[0;36mResolution.convertFucntion\u001b[1;34m(self)\u001b[0m\n\u001b[0;32m     <a href='vscode-notebook-cell:/g%3A/%EB%82%B4%20%EB%93%9C%EB%9D%BC%EC%9D%B4%EB%B8%8C/Github/Make_high-resolution_IMG/agent.ipynb#W0sZmlsZQ%3D%3D?line=76'>77</a>\u001b[0m \u001b[39melif\u001b[39;00m \u001b[39mself\u001b[39m\u001b[39m.\u001b[39mscale\u001b[39m.\u001b[39mtext() \u001b[39m==\u001b[39m \u001b[39m'\u001b[39m\u001b[39m4\u001b[39m\u001b[39m'\u001b[39m:\n\u001b[0;32m     <a href='vscode-notebook-cell:/g%3A/%EB%82%B4%20%EB%93%9C%EB%9D%BC%EC%9D%B4%EB%B8%8C/Github/Make_high-resolution_IMG/agent.ipynb#W0sZmlsZQ%3D%3D?line=77'>78</a>\u001b[0m     model \u001b[39m=\u001b[39m \u001b[39m\"\u001b[39m\u001b[39mmodels/LapSRN_x4.pb\u001b[39m\u001b[39m\"\u001b[39m\n\u001b[1;32m---> <a href='vscode-notebook-cell:/g%3A/%EB%82%B4%20%EB%93%9C%EB%9D%BC%EC%9D%B4%EB%B8%8C/Github/Make_high-resolution_IMG/agent.ipynb#W0sZmlsZQ%3D%3D?line=78'>79</a>\u001b[0m \u001b[39melif\u001b[39;00m \u001b[39mself\u001b[39;49m\u001b[39m.\u001b[39;49mmodel\u001b[39m.\u001b[39mtext() \u001b[39m==\u001b[39m \u001b[39m'\u001b[39m\u001b[39m8\u001b[39m\u001b[39m'\u001b[39m:\n\u001b[0;32m     <a href='vscode-notebook-cell:/g%3A/%EB%82%B4%20%EB%93%9C%EB%9D%BC%EC%9D%B4%EB%B8%8C/Github/Make_high-resolution_IMG/agent.ipynb#W0sZmlsZQ%3D%3D?line=79'>80</a>\u001b[0m     model \u001b[39m=\u001b[39m \u001b[39m\"\u001b[39m\u001b[39mmodels/LapSRN_x8.pb\u001b[39m\u001b[39m\"\u001b[39m\n\u001b[0;32m     <a href='vscode-notebook-cell:/g%3A/%EB%82%B4%20%EB%93%9C%EB%9D%BC%EC%9D%B4%EB%B8%8C/Github/Make_high-resolution_IMG/agent.ipynb#W0sZmlsZQ%3D%3D?line=81'>82</a>\u001b[0m modelName \u001b[39m=\u001b[39m \u001b[39m\"\u001b[39m\u001b[39mlapsrn\u001b[39m\u001b[39m\"\u001b[39m \u001b[39m# model.split(os.path.sep)[-1].split(\"_\")[0].lower()\u001b[39;00m\n",
      "\u001b[1;31mAttributeError\u001b[0m: 'Resolution' object has no attribute 'model'"
     ]
    },
    {
     "ename": "AttributeError",
     "evalue": "'Resolution' object has no attribute 'model'",
     "output_type": "error",
     "traceback": [
      "\u001b[1;31m---------------------------------------------------------------------------\u001b[0m",
      "\u001b[1;31mAttributeError\u001b[0m                            Traceback (most recent call last)",
      "\u001b[1;32mg:\\내 드라이브\\Github\\Make_high-resolution_IMG\\agent.ipynb Cell 1\u001b[0m in \u001b[0;36mResolution.convertFucntion\u001b[1;34m(self)\u001b[0m\n\u001b[0;32m     <a href='vscode-notebook-cell:/g%3A/%EB%82%B4%20%EB%93%9C%EB%9D%BC%EC%9D%B4%EB%B8%8C/Github/Make_high-resolution_IMG/agent.ipynb#W0sZmlsZQ%3D%3D?line=76'>77</a>\u001b[0m \u001b[39melif\u001b[39;00m \u001b[39mself\u001b[39m\u001b[39m.\u001b[39mscale\u001b[39m.\u001b[39mtext() \u001b[39m==\u001b[39m \u001b[39m'\u001b[39m\u001b[39m4\u001b[39m\u001b[39m'\u001b[39m:\n\u001b[0;32m     <a href='vscode-notebook-cell:/g%3A/%EB%82%B4%20%EB%93%9C%EB%9D%BC%EC%9D%B4%EB%B8%8C/Github/Make_high-resolution_IMG/agent.ipynb#W0sZmlsZQ%3D%3D?line=77'>78</a>\u001b[0m     model \u001b[39m=\u001b[39m \u001b[39m\"\u001b[39m\u001b[39mmodels/LapSRN_x4.pb\u001b[39m\u001b[39m\"\u001b[39m\n\u001b[1;32m---> <a href='vscode-notebook-cell:/g%3A/%EB%82%B4%20%EB%93%9C%EB%9D%BC%EC%9D%B4%EB%B8%8C/Github/Make_high-resolution_IMG/agent.ipynb#W0sZmlsZQ%3D%3D?line=78'>79</a>\u001b[0m \u001b[39melif\u001b[39;00m \u001b[39mself\u001b[39;49m\u001b[39m.\u001b[39;49mmodel\u001b[39m.\u001b[39mtext() \u001b[39m==\u001b[39m \u001b[39m'\u001b[39m\u001b[39m8\u001b[39m\u001b[39m'\u001b[39m:\n\u001b[0;32m     <a href='vscode-notebook-cell:/g%3A/%EB%82%B4%20%EB%93%9C%EB%9D%BC%EC%9D%B4%EB%B8%8C/Github/Make_high-resolution_IMG/agent.ipynb#W0sZmlsZQ%3D%3D?line=79'>80</a>\u001b[0m     model \u001b[39m=\u001b[39m \u001b[39m\"\u001b[39m\u001b[39mmodels/LapSRN_x8.pb\u001b[39m\u001b[39m\"\u001b[39m\n\u001b[0;32m     <a href='vscode-notebook-cell:/g%3A/%EB%82%B4%20%EB%93%9C%EB%9D%BC%EC%9D%B4%EB%B8%8C/Github/Make_high-resolution_IMG/agent.ipynb#W0sZmlsZQ%3D%3D?line=81'>82</a>\u001b[0m modelName \u001b[39m=\u001b[39m \u001b[39m\"\u001b[39m\u001b[39mlapsrn\u001b[39m\u001b[39m\"\u001b[39m \u001b[39m# model.split(os.path.sep)[-1].split(\"_\")[0].lower()\u001b[39;00m\n",
      "\u001b[1;31mAttributeError\u001b[0m: 'Resolution' object has no attribute 'model'"
     ]
    },
    {
     "ename": "AttributeError",
     "evalue": "'Resolution' object has no attribute 'model'",
     "output_type": "error",
     "traceback": [
      "\u001b[1;31m---------------------------------------------------------------------------\u001b[0m",
      "\u001b[1;31mAttributeError\u001b[0m                            Traceback (most recent call last)",
      "\u001b[1;32mg:\\내 드라이브\\Github\\Make_high-resolution_IMG\\agent.ipynb Cell 1\u001b[0m in \u001b[0;36mResolution.convertFucntion\u001b[1;34m(self)\u001b[0m\n\u001b[0;32m     <a href='vscode-notebook-cell:/g%3A/%EB%82%B4%20%EB%93%9C%EB%9D%BC%EC%9D%B4%EB%B8%8C/Github/Make_high-resolution_IMG/agent.ipynb#W0sZmlsZQ%3D%3D?line=76'>77</a>\u001b[0m \u001b[39melif\u001b[39;00m \u001b[39mself\u001b[39m\u001b[39m.\u001b[39mscale\u001b[39m.\u001b[39mtext() \u001b[39m==\u001b[39m \u001b[39m'\u001b[39m\u001b[39m4\u001b[39m\u001b[39m'\u001b[39m:\n\u001b[0;32m     <a href='vscode-notebook-cell:/g%3A/%EB%82%B4%20%EB%93%9C%EB%9D%BC%EC%9D%B4%EB%B8%8C/Github/Make_high-resolution_IMG/agent.ipynb#W0sZmlsZQ%3D%3D?line=77'>78</a>\u001b[0m     model \u001b[39m=\u001b[39m \u001b[39m\"\u001b[39m\u001b[39mmodels/LapSRN_x4.pb\u001b[39m\u001b[39m\"\u001b[39m\n\u001b[1;32m---> <a href='vscode-notebook-cell:/g%3A/%EB%82%B4%20%EB%93%9C%EB%9D%BC%EC%9D%B4%EB%B8%8C/Github/Make_high-resolution_IMG/agent.ipynb#W0sZmlsZQ%3D%3D?line=78'>79</a>\u001b[0m \u001b[39melif\u001b[39;00m \u001b[39mself\u001b[39;49m\u001b[39m.\u001b[39;49mmodel\u001b[39m.\u001b[39mtext() \u001b[39m==\u001b[39m \u001b[39m'\u001b[39m\u001b[39m8\u001b[39m\u001b[39m'\u001b[39m:\n\u001b[0;32m     <a href='vscode-notebook-cell:/g%3A/%EB%82%B4%20%EB%93%9C%EB%9D%BC%EC%9D%B4%EB%B8%8C/Github/Make_high-resolution_IMG/agent.ipynb#W0sZmlsZQ%3D%3D?line=79'>80</a>\u001b[0m     model \u001b[39m=\u001b[39m \u001b[39m\"\u001b[39m\u001b[39mmodels/LapSRN_x8.pb\u001b[39m\u001b[39m\"\u001b[39m\n\u001b[0;32m     <a href='vscode-notebook-cell:/g%3A/%EB%82%B4%20%EB%93%9C%EB%9D%BC%EC%9D%B4%EB%B8%8C/Github/Make_high-resolution_IMG/agent.ipynb#W0sZmlsZQ%3D%3D?line=81'>82</a>\u001b[0m modelName \u001b[39m=\u001b[39m \u001b[39m\"\u001b[39m\u001b[39mlapsrn\u001b[39m\u001b[39m\"\u001b[39m \u001b[39m# model.split(os.path.sep)[-1].split(\"_\")[0].lower()\u001b[39;00m\n",
      "\u001b[1;31mAttributeError\u001b[0m: 'Resolution' object has no attribute 'model'"
     ]
    },
    {
     "data": {
      "text/plain": [
       "0"
      ]
     },
     "execution_count": 1,
     "metadata": {},
     "output_type": "execute_result"
    }
   ],
   "source": [
    "from PyQt5.QtWidgets import *\n",
    "from PyQt5.QtCore import *\n",
    "import sys\n",
    "import cv2 as cv\n",
    "import numpy as np\n",
    "import time\n",
    "import os\n",
    "\n",
    "class Resolution(QMainWindow):\n",
    "    def __init__(self):\n",
    "        super().__init__()\n",
    "        \n",
    "        self.setWindowTitle(\"Make High-Resolution IMG\")\n",
    "        self.setGeometry(200,200,420,200) # 화면에 나타날 윈도우의 위치와 크기를 지정\n",
    "        \n",
    "        self.inittext = QLabel(\"저해상도 이미지를 고해상도로 바꾸어 주는 프로그램\", self)\n",
    "        self.inittext.move(10, 10)\n",
    "        self.inittext.resize(500, 20)\n",
    "        \n",
    "        imgopenButton = QPushButton('이미지 열기', self) # 버튼 생성\n",
    "        videoopenButton = QPushButton('비디오 열기', self)\n",
    "        convertButton = QPushButton('영상 변환', self)\n",
    "        exportButton = QPushButton('내보내기', self)\n",
    "        quitButton = QPushButton('나가기', self)\n",
    "        \n",
    "        self.scaletext = QLabel(\"Scale (2,4,8 만 가능) : \", self)\n",
    "        self.scaletext.move(10, 90)\n",
    "        self.scaletext.resize(300, 20)\n",
    "        \n",
    "        self.scale = QLineEdit(\"\", self)\n",
    "        self.scale.move(165, 90)\n",
    "        self.scale.resize(30,20)\n",
    "        self.scale.textChanged.connect(self.lineEdit_textChanged) # self.scale.text()\n",
    " \n",
    "        self.radio1 = QRadioButton(\"Bicubic(고전방법)\", self)\n",
    "        self.radio1.move(10, 110)\n",
    "        self.radio1.resize(500,20)\n",
    "        self.radio1.setChecked(True)\n",
    "        self.radio1.clicked.connect(self.radioButton_clicked) \n",
    "        \n",
    "        self.radio2 = QRadioButton(\"Super-Resolution(딥러닝)\", self)\n",
    "        self.radio2.move(10, 130)\n",
    "        self.radio2.resize(500,20)\n",
    "        self.radio2.clicked.connect(self.radioButton_clicked)\n",
    "        \n",
    "        \n",
    " \n",
    "        imgopenButton.setGeometry(10, 30, 100, 30)\n",
    "        videoopenButton.setGeometry(10, 60, 100, 30)\n",
    "        convertButton.setGeometry(110, 30, 100, 30)\n",
    "        exportButton.setGeometry(210, 30, 100, 30)\n",
    "        quitButton.setGeometry(310, 30, 100, 30)\n",
    "        \n",
    "        imgopenButton.clicked.connect(self.IMGOpenFunction)\n",
    "        \n",
    "        convertButton.clicked.connect(self.convertFucntion)\n",
    "        \n",
    "        quitButton.clicked.connect(self.quitFunction)\n",
    "    \n",
    "    def IMGOpenFunction(self):\n",
    "        fname = QFileDialog.getOpenFileName(self, 'Open file', './examples') \n",
    "        fname = './examples/' + fname[0].split('/')[-1] # 한글 경로 오류로 수동 지정\n",
    "        print(fname)\n",
    "        self.img = cv.imread(fname)\n",
    "        if self.img is None : sys.exit('파일을 찾을 수 없습니다.')\n",
    "        \n",
    "        # self.img_show = np.copy(self.img)\n",
    "        cv.imshow('Original', self.img)\n",
    "    \n",
    "    def lineEdit_textChanged(self):\n",
    "        pass\n",
    "        #self.statusBar.showMessage(self.lineEdit.text())\n",
    "\n",
    "    def convertFucntion(self):\n",
    "        if self.scale.text() == '2':\n",
    "            model = \"models/LapSRN_x2.pb\"\n",
    "        elif self.scale.text() == '4':\n",
    "            model = \"models/LapSRN_x4.pb\"\n",
    "        elif self.scale.text() == '8':\n",
    "            model = \"models/LapSRN_x8.pb\"\n",
    "        \n",
    "        modelName = \"lapsrn\" # model.split(os.path.sep)[-1].split(\"_\")[0].lower()\n",
    "        modelScale = int(self.scale.text())\n",
    "         \n",
    "        sr = cv.dnn_superres.DnnSuperResImpl_create()\n",
    "        sr.readModel(model)\n",
    "        sr.setModel(modelName, modelScale)\n",
    "        \n",
    "        \n",
    "        if self.method == \"bicubic\":\n",
    "            print(\"bicubic\")\n",
    "            start = time.time()\n",
    "            self.bicubic = cv.resize(self.img, int(self.img.shape[1])*modelScale, int(self.img.shape[0])*modelScale)\n",
    "            end = time.time()\n",
    "            cv.imshow(\"Bicubic\", self.bicubic)\n",
    "        \n",
    "        elif self.method == \"super\":\n",
    "            print(\"super-resolution\")\n",
    "            start = time.time()\n",
    "            self.upscaled = sr.upsample(self.img)\n",
    "            end = time.time()\n",
    "            cv.imshow(\"Super Resolution\", self.upscaled)\n",
    "       \n",
    "#    def scale_set(self):\n",
    "#        self.scale\n",
    "       \n",
    "    def radioButton_clicked(self):\n",
    "        self.method = \"\"\n",
    "        if self.radio1.isChecked():\n",
    "            self.method = \"bicubic\"\n",
    "        else:\n",
    "            self.method = \"super\"\n",
    "            \n",
    "    def quitFunction(self):\n",
    "        cv.destroyAllWindows()\n",
    "        self.close()\n",
    "        \n",
    "app = QApplication(sys.argv)\n",
    "win = Resolution()\n",
    "win.show()\n",
    "app.exec_()\n",
    "        "
   ]
  },
  {
   "cell_type": "code",
   "execution_count": 2,
   "metadata": {},
   "outputs": [
    {
     "data": {
      "text/plain": [
       "'g:\\\\내 드라이브\\\\Github\\\\Make_high-resolution_IMG'"
      ]
     },
     "execution_count": 2,
     "metadata": {},
     "output_type": "execute_result"
    }
   ],
   "source": [
    "pwd"
   ]
  },
  {
   "cell_type": "code",
   "execution_count": null,
   "metadata": {},
   "outputs": [],
   "source": []
  }
 ],
 "metadata": {
  "kernelspec": {
   "display_name": "cv",
   "language": "python",
   "name": "python3"
  },
  "language_info": {
   "codemirror_mode": {
    "name": "ipython",
    "version": 3
   },
   "file_extension": ".py",
   "mimetype": "text/x-python",
   "name": "python",
   "nbconvert_exporter": "python",
   "pygments_lexer": "ipython3",
   "version": "3.8.13"
  },
  "orig_nbformat": 4
 },
 "nbformat": 4,
 "nbformat_minor": 2
}
