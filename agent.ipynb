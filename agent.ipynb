{
 "cells": [
  {
   "cell_type": "code",
   "execution_count": 2,
   "metadata": {},
   "outputs": [
    {
     "ename": "",
     "evalue": "",
     "output_type": "error",
     "traceback": [
      "\u001b[1;31mCanceled future for execute_request message before replies were done"
     ]
    },
    {
     "ename": "",
     "evalue": "",
     "output_type": "error",
     "traceback": [
      "\u001b[1;31mThe Kernel crashed while executing code in the the current cell or a previous cell. Please review the code in the cell(s) to identify a possible cause of the failure. Click <a href='https://aka.ms/vscodeJupyterKernelCrash'>here</a> for more info. View Jupyter <a href='command:jupyter.viewOutput'>log</a> for further details."
     ]
    }
   ],
   "source": [
    "from PyQt5.QtWidgets import *\n",
    "import sys\n",
    "import cv2 as cv\n",
    "\n",
    "class Resolution(QMainWindow):\n",
    "    def __init__(self):\n",
    "        super().__init__()\n",
    "        \n",
    "        self.setWindowTitle(\"Make High-Resolution IMG\")\n",
    "        self.setGeometry(200,200,1000,400) # 화면에 나타날 윈도우의 위치와 크기를 지정\n",
    "        \n",
    "        imgopenButton = QPushButton('이미지 열기', self) # 버튼 생성\n",
    "        videoopenButton = QPushButton('비디오 열기', self)\n",
    "        convertButton = QPushButton('영상 변환', self)\n",
    "        exportButton = QPushButton('내보내기', self)\n",
    "        quitButton = QPushButton('나가기', self)\n",
    "        \n",
    "        \n",
    "        imgopenButton.setGeometry(10, 10, 100, 30)\n",
    "        videoopenButton.setGeometry(10, 40, 100, 30)\n",
    "        convertButton.setGeometry(110, 10, 100, 30)\n",
    "        exportButton.setGeometry(210, 10, 100, 30)\n",
    "        quitButton.setGeometry(310, 10, 100, 30)\n",
    "        \n",
    "        \n",
    "        quitButton.clicked.connect(self.quitFunction)\n",
    "        \n",
    "    def quitFunction(self):\n",
    "        cv.destroyAllWindows()\n",
    "        self.close()\n",
    "        \n",
    "app = QApplication(sys.argv)\n",
    "win = Resolution()\n",
    "win.show()\n",
    "app.exec_()\n",
    "        "
   ]
  },
  {
   "cell_type": "code",
   "execution_count": null,
   "metadata": {},
   "outputs": [],
   "source": []
  }
 ],
 "metadata": {
  "kernelspec": {
   "display_name": "cv",
   "language": "python",
   "name": "python3"
  },
  "language_info": {
   "codemirror_mode": {
    "name": "ipython",
    "version": 3
   },
   "file_extension": ".py",
   "mimetype": "text/x-python",
   "name": "python",
   "nbconvert_exporter": "python",
   "pygments_lexer": "ipython3",
   "version": "3.8.13"
  },
  "orig_nbformat": 4
 },
 "nbformat": 4,
 "nbformat_minor": 2
}
