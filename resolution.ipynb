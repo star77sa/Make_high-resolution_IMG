{
 "cells": [
  {
   "cell_type": "code",
   "execution_count": 88,
   "metadata": {},
   "outputs": [],
   "source": [
    "# ! pip install opencv-contrib-python"
   ]
  },
  {
   "cell_type": "code",
   "execution_count": 89,
   "metadata": {},
   "outputs": [],
   "source": [
    "# import the necessary packages\n",
    "import argparse\n",
    "import time\n",
    "import cv2\n",
    "import os"
   ]
  },
  {
   "cell_type": "code",
   "execution_count": 2,
   "metadata": {},
   "outputs": [],
   "source": [
    "# construct the argument parser and parse the arguments\n",
    "\n",
    "#ap= argparse.ArgumentParser()\n",
    "#ap.add_argument(\"-m\", \"--model\", required=True,\n",
    "#                help = \"path to super resolution model\")\n",
    "#ap.add_argument(\"-i\", \"--image\", required=True,\n",
    "#                help = \"path to input image we want to increase resolution of\")\n",
    "#args = vars(ap.parse_args())"
   ]
  },
  {
   "cell_type": "code",
   "execution_count": 76,
   "metadata": {},
   "outputs": [],
   "source": [
    "# temp\n",
    "args = {\"model\" : \"models\\\\LapSRN_x4.pb\", \"image\" : \"examples\\\\zebra.png\"}"
   ]
  },
  {
   "cell_type": "code",
   "execution_count": 77,
   "metadata": {},
   "outputs": [],
   "source": [
    "# extract the model name and model scale from the file path\n",
    "\n",
    "modelName = args[\"model\"].split(os.path.sep)[-1].split(\"_\")[0].lower()\n",
    "modelScale = args[\"model\"].split(\"_x\")[-1]\n",
    "modelScale = int(modelScale[:modelScale.find(\".\")])"
   ]
  },
  {
   "cell_type": "code",
   "execution_count": 78,
   "metadata": {},
   "outputs": [
    {
     "data": {
      "text/plain": [
       "'lapsrn'"
      ]
     },
     "execution_count": 78,
     "metadata": {},
     "output_type": "execute_result"
    }
   ],
   "source": [
    "modelName"
   ]
  },
  {
   "cell_type": "code",
   "execution_count": 79,
   "metadata": {},
   "outputs": [
    {
     "name": "stdout",
     "output_type": "stream",
     "text": [
      "[INFO] loading super resolution model: models\\LapSRN_x4.pb\n",
      "[INFO] model name: lapsrn\n",
      "[INFO] model scale: 4\n"
     ]
    }
   ],
   "source": [
    "# initialize OpenCV's super resolution DNN object, load the super\n",
    "# resolution model from disk, and set the model name and scale\n",
    "print(\"[INFO] loading super resolution model: {}\".format(args[\"model\"]))\n",
    "print(\"[INFO] model name: {}\".format(modelName))\n",
    "print(\"[INFO] model scale: {}\".format(modelScale))\n",
    "sr = cv2.dnn_superres.DnnSuperResImpl_create()\n",
    "sr.readModel(args[\"model\"])\n",
    "sr.setModel(modelName, modelScale)"
   ]
  },
  {
   "cell_type": "code",
   "execution_count": 80,
   "metadata": {},
   "outputs": [
    {
     "data": {
      "text/plain": [
       "('lapsrn', 4)"
      ]
     },
     "execution_count": 80,
     "metadata": {},
     "output_type": "execute_result"
    }
   ],
   "source": [
    "modelName, modelScale"
   ]
  },
  {
   "cell_type": "code",
   "execution_count": 85,
   "metadata": {},
   "outputs": [
    {
     "name": "stdout",
     "output_type": "stream",
     "text": [
      "[INFO] w: 259, h: 194\n",
      "[INFO] super resolution took 0.975768 seconds\n",
      "[INFO] w: 1036, h: 776\n"
     ]
    }
   ],
   "source": [
    "# load the input image from disk and display its spatial dimensions\n",
    "image = cv2.imread(args[\"image\"])\n",
    "print(\"[INFO] w: {}, h: {}\".format(image.shape[1], image.shape[0]))\n",
    "# use the super resolution model to upscale the image, timing how\n",
    "# long it takes\n",
    "start = time.time()\n",
    "upscaled = sr.upsample(image)\n",
    "end = time.time()\n",
    "print(\"[INFO] super resolution took {:.6f} seconds\".format(end - start))\n",
    "# show the spatial dimensions of the super resolution image\n",
    "print(\"[INFO] w: {}, h: {}\".format(upscaled.shape[1], upscaled.shape[0]))"
   ]
  },
  {
   "cell_type": "code",
   "execution_count": 86,
   "metadata": {},
   "outputs": [
    {
     "name": "stdout",
     "output_type": "stream",
     "text": [
      "[INFO] bicubic interpolation took 0.006333 seconds\n"
     ]
    }
   ],
   "source": [
    "# resize the image using standard bicubic interpolation\n",
    "start = time.time()\n",
    "bicubic = cv2.resize(image, (upscaled.shape[1], upscaled.shape[0]),\n",
    "\tinterpolation=cv2.INTER_CUBIC)\n",
    "end = time.time()\n",
    "print(\"[INFO] bicubic interpolation took {:.6f} seconds\".format(end - start))"
   ]
  },
  {
   "cell_type": "code",
   "execution_count": 90,
   "metadata": {},
   "outputs": [
    {
     "data": {
      "text/plain": [
       "-1"
      ]
     },
     "execution_count": 90,
     "metadata": {},
     "output_type": "execute_result"
    }
   ],
   "source": [
    "# show the original input image, bicubic interpolation image, and\n",
    "# super resolution deep learning output\n",
    "cv2.imshow(\"Original\", image)\n",
    "cv2.imshow(\"Bicubic\", bicubic)\n",
    "cv2.imshow(\"Super Resolution\", upscaled)\n",
    "cv2.waitKey(0)"
   ]
  },
  {
   "cell_type": "code",
   "execution_count": null,
   "metadata": {},
   "outputs": [],
   "source": []
  }
 ],
 "metadata": {
  "kernelspec": {
   "display_name": "cv",
   "language": "python",
   "name": "python3"
  },
  "language_info": {
   "codemirror_mode": {
    "name": "ipython",
    "version": 3
   },
   "file_extension": ".py",
   "mimetype": "text/x-python",
   "name": "python",
   "nbconvert_exporter": "python",
   "pygments_lexer": "ipython3",
   "version": "3.8.13"
  },
  "orig_nbformat": 4
 },
 "nbformat": 4,
 "nbformat_minor": 2
}
